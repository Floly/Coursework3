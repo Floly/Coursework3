{
 "cells": [
  {
   "cell_type": "code",
   "execution_count": 2,
   "id": "5253b7d3",
   "metadata": {},
   "outputs": [],
   "source": [
    "import sys\n",
    "sys.path.append('/Users/ivanesipov/Desktop/Учеба/Курсовая_3/Coursework_3/src/utils')\n",
    "import parsutils as pu"
   ]
  },
  {
   "cell_type": "code",
   "execution_count": 3,
   "id": "10e5512c",
   "metadata": {},
   "outputs": [],
   "source": [
    "cities = \"/Users/ivanesipov/Desktop/Учеба/Курсовая_3/Coursework_3/references/cities_list_OSM.txt\"\n",
    "needed_tags = \"/Users/ivanesipov/Desktop/Учеба/Курсовая_3/Coursework_3/references/tags_list_OSM.txt\"\n",
    "\n",
    "def parser(cities_file, tags_file):\n",
    "    L0 = open(tags_file).readlines()\n",
    "    L1 = open(cities_file).readlines()\n",
    "    needed_tags, cities = [], []\n",
    "    for tag in L0:\n",
    "        needed_tags.append(tag.replace('\\n',''))\n",
    "    for city in L1:\n",
    "        cities.append(city.replace('\\n',''))\n",
    "\n",
    "    tags = pu.tags_to_dict(needed_tags)\n",
    "    errors = pu.parse_cities(cities,tags) # используем тэги и города из OSM для парсинга\n",
    "    pu.concat_cities(cities)\n",
    "    return errors"
   ]
  },
  {
   "cell_type": "code",
   "execution_count": null,
   "id": "a53f437b",
   "metadata": {
    "pycharm": {
     "is_executing": true,
     "name": "#%%\n"
    }
   },
   "outputs": [
    {
     "name": "stderr",
     "output_type": "stream",
     "text": [
      "  0%|          | 0/14 [00:00<?, ?it/s]/Users/ivanesipov/Desktop/Учеба/Курсовая_3/Coursework_3/src/utils/parsutils.py:67: ResourceWarning: unclosed <ssl.SSLSocket fd=81, family=AddressFamily.AF_INET, type=SocketKind.SOCK_STREAM, proto=0, laddr=('192.168.1.147', 54792), raddr=('178.63.11.215', 443)>\n",
      "  continue\n",
      "ResourceWarning: Enable tracemalloc to get the object allocation traceback\n",
      "/Users/ivanesipov/Desktop/Учеба/Курсовая_3/Coursework_3/src/utils/parsutils.py:67: ResourceWarning: unclosed <ssl.SSLSocket fd=81, family=AddressFamily.AF_INET, type=SocketKind.SOCK_STREAM, proto=0, laddr=('192.168.1.147', 54793), raddr=('178.63.11.215', 443)>\n",
      "  continue\n",
      "ResourceWarning: Enable tracemalloc to get the object allocation traceback\n",
      "/Users/ivanesipov/Desktop/Учеба/Курсовая_3/Coursework_3/src/utils/parsutils.py:67: ResourceWarning: unclosed <ssl.SSLSocket fd=81, family=AddressFamily.AF_INET, type=SocketKind.SOCK_STREAM, proto=0, laddr=('192.168.1.147', 54794), raddr=('178.63.11.215', 443)>\n",
      "  continue\n",
      "ResourceWarning: Enable tracemalloc to get the object allocation traceback\n",
      "/Users/ivanesipov/Desktop/Учеба/Курсовая_3/Coursework_3/src/utils/parsutils.py:67: ResourceWarning: unclosed <ssl.SSLSocket fd=81, family=AddressFamily.AF_INET, type=SocketKind.SOCK_STREAM, proto=0, laddr=('192.168.1.147', 54795), raddr=('178.63.11.215', 443)>\n",
      "  continue\n",
      "ResourceWarning: Enable tracemalloc to get the object allocation traceback\n"
     ]
    }
   ],
   "source": [
    "parser(cities, needed_tags)"
   ]
  }
 ],
 "metadata": {
  "kernelspec": {
   "display_name": "Python 3 (ipykernel)",
   "language": "python",
   "name": "python3"
  },
  "language_info": {
   "codemirror_mode": {
    "name": "ipython",
    "version": 3
   },
   "file_extension": ".py",
   "mimetype": "text/x-python",
   "name": "python",
   "nbconvert_exporter": "python",
   "pygments_lexer": "ipython3",
   "version": "3.8.8"
  }
 },
 "nbformat": 4,
 "nbformat_minor": 5
}