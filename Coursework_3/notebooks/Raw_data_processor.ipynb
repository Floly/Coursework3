{
 "cells": [
  {
   "cell_type": "code",
   "execution_count": 2,
   "outputs": [],
   "source": [
    "import geopandas as gpd\n",
    "import pandas as pd\n",
    "import os\n",
    "\n",
    "import sys\n",
    "sys.path.append('/Users/ivanesipov/Desktop/Учеба/Курсовая_3/Coursework_3/src/utils')\n",
    "import parsutils as pu"
   ],
   "metadata": {
    "collapsed": false,
    "pycharm": {
     "name": "#%%\n"
    }
   }
  },
  {
   "cell_type": "code",
   "execution_count": 13,
   "outputs": [],
   "source": [
    "# загружаем список городов\n",
    "cities_path = \"/Users/ivanesipov/Desktop/Учеба/Курсовая_3/Coursework_3/references/cities_list_OSM.txt\"\n",
    "L1 = open(cities_path).readlines()\n",
    "cities = []\n",
    "for city in L1:\n",
    "    cities.append(city.replace('\\n',''))"
   ],
   "metadata": {
    "collapsed": false,
    "pycharm": {
     "name": "#%%\n"
    }
   }
  },
  {
   "cell_type": "code",
   "execution_count": null,
   "outputs": [],
   "source": [
    "# разбиваем формы городов на полигоны, после чего разбиваем их на гексагоны\n",
    "poly_cities = pu.split_multipolygons(cities).reset_index().drop(columns = 'index')\n",
    "hexagons = pu.hexagons_from_cities(poly_cities, hexagon_size = 5)"
   ],
   "metadata": {
    "collapsed": false,
    "pycharm": {
     "name": "#%%\n"
    }
   }
  },
  {
   "cell_type": "code",
   "execution_count": null,
   "outputs": [],
   "source": [
    "# объединяем объекты из папки с городами в один датафрейм и сохраним в data/interim/\n",
    "path = '/Users/ivanesipov/Desktop/Учеба/Курсовая_3/Coursework_3/data/raw/finals'\n",
    "pu.concat_cities_objects(path)"
   ],
   "metadata": {
    "collapsed": false,
    "pycharm": {
     "name": "#%%\n"
    }
   }
  },
  {
   "cell_type": "code",
   "execution_count": 64,
   "outputs": [],
   "source": [
    "# считываем файл из предыдущей ячейки\n",
    "f = '/Users/ivanesipov/Desktop/Учеба/Курсовая_3/Coursework_3/data/interim/final_concatenation.csv'\n",
    "df = pd.read_csv(f)\n",
    "df['geometry'] = gpd.GeoSeries.from_wkt(df['geometry'])"
   ],
   "metadata": {
    "collapsed": false,
    "pycharm": {
     "name": "#%%\n"
    }
   }
  },
  {
   "cell_type": "code",
   "execution_count": 65,
   "outputs": [],
   "source": [
    "# обрабатываем данные из датафрейма со всеми объектами и пересекаем их с полигонами\n",
    "gdf = gpd.GeoDataFrame(df, geometry= 'geometry').iloc[:,3:].drop(['lat', 'lon'], axis = 1)\n",
    "gdf_joined = gpd.sjoin(hexagons, gdf, 'inner')\n",
    "gdf_joined.drop(['index_right'], axis = 1, inplace=True)\n",
    "gdf_joined.reset_index(inplace = True)\n",
    "gdf_joined.rename(columns = {'index':'hex_index'}, inplace = True)"
   ],
   "metadata": {
    "collapsed": false,
    "pycharm": {
     "name": "#%%\n"
    }
   }
  },
  {
   "cell_type": "code",
   "execution_count": 66,
   "outputs": [
    {
     "name": "stderr",
     "output_type": "stream",
     "text": [
      "100%|██████████| 600575/600575 [6:49:39<00:00, 24.43it/s]    \n"
     ]
    }
   ],
   "source": [
    "# посчитаем объекты в полигонах и сохраним в словаре\n",
    "Final = pu.count_objects(gdf_joined)"
   ],
   "metadata": {
    "collapsed": false,
    "pycharm": {
     "name": "#%%\n"
    }
   }
  },
  {
   "cell_type": "code",
   "execution_count": 69,
   "outputs": [],
   "source": [
    "# сохраняем данные\n",
    "os.chdir('/Users/ivanesipov/Desktop/Учеба/Курсовая_3/Coursework_3/data/processed')\n",
    "Final.to_csv('Final_hexes_dict_counter.csv')"
   ],
   "metadata": {
    "collapsed": false,
    "pycharm": {
     "name": "#%%\n"
    }
   }
  },
  {
   "cell_type": "code",
   "execution_count": 16,
   "outputs": [
    {
     "data": {
      "text/plain": "        hexagon_id              city  \\\n112182       42530  Saint-Petersburg   \n110852       42359  Saint-Petersburg   \n582838      601607            Moscow   \n295029      294207     Yekaterinburg   \n298722      244830     Yekaterinburg   \n311574      260950     Yekaterinburg   \n281750      230236     Yekaterinburg   \n6807         28494  Saint-Petersburg   \n554717      561238               Уфа   \n511763      536364    Ростов-на-Дону   \n\n                                                 geometry  \\\n112182  POLYGON ((30.4574778373787 60.00520816314822, ...   \n110852  POLYGON ((30.20764017916242 59.81909104808532,...   \n582838  POLYGON ((37.73764602777381 55.66526869669656,...   \n295029  POLYGON ((60.32577759826023 56.9089979894114, ...   \n298722  POLYGON ((60.65142653543182 56.8775982196138, ...   \n311574  POLYGON ((60.61475238325298 56.9400826374019, ...   \n281750  POLYGON ((60.92030337876403 56.81051617973647,...   \n6807    POLYGON ((30.3614427028565 59.95344935126755, ...   \n554717  POLYGON ((56.06703336868505 54.68377921292708,...   \n511763  POLYGON ((39.74174181139296 47.33229872480777,...   \n\n                                             counter_dict  \n112182                     Counter({'waterway_ditch': 1})  \n110852                     Counter({'waterway_ditch': 5})  \n582838  Counter({'highway_service': 4, 'landuse_constr...  \n295029  Counter({'natural_wood': 4, 'highway_track': 2...  \n298722  Counter({'railway_rail': 14, 'building_industr...  \n311574  Counter({'highway_trunk': 4, 'highway_trunk_li...  \n281750   Counter({'natural_wood': 2, 'highway_track': 1})  \n6807    Counter({'waterway_river': 2, 'water_river': 1...  \n554717                       Counter({'natural_wood': 3})  \n511763    Counter({'highway_path': 4, 'natural_wood': 1})  ",
      "text/html": "<div>\n<style scoped>\n    .dataframe tbody tr th:only-of-type {\n        vertical-align: middle;\n    }\n\n    .dataframe tbody tr th {\n        vertical-align: top;\n    }\n\n    .dataframe thead th {\n        text-align: right;\n    }\n</style>\n<table border=\"1\" class=\"dataframe\">\n  <thead>\n    <tr style=\"text-align: right;\">\n      <th></th>\n      <th>hexagon_id</th>\n      <th>city</th>\n      <th>geometry</th>\n      <th>counter_dict</th>\n    </tr>\n  </thead>\n  <tbody>\n    <tr>\n      <th>112182</th>\n      <td>42530</td>\n      <td>Saint-Petersburg</td>\n      <td>POLYGON ((30.4574778373787 60.00520816314822, ...</td>\n      <td>Counter({'waterway_ditch': 1})</td>\n    </tr>\n    <tr>\n      <th>110852</th>\n      <td>42359</td>\n      <td>Saint-Petersburg</td>\n      <td>POLYGON ((30.20764017916242 59.81909104808532,...</td>\n      <td>Counter({'waterway_ditch': 5})</td>\n    </tr>\n    <tr>\n      <th>582838</th>\n      <td>601607</td>\n      <td>Moscow</td>\n      <td>POLYGON ((37.73764602777381 55.66526869669656,...</td>\n      <td>Counter({'highway_service': 4, 'landuse_constr...</td>\n    </tr>\n    <tr>\n      <th>295029</th>\n      <td>294207</td>\n      <td>Yekaterinburg</td>\n      <td>POLYGON ((60.32577759826023 56.9089979894114, ...</td>\n      <td>Counter({'natural_wood': 4, 'highway_track': 2...</td>\n    </tr>\n    <tr>\n      <th>298722</th>\n      <td>244830</td>\n      <td>Yekaterinburg</td>\n      <td>POLYGON ((60.65142653543182 56.8775982196138, ...</td>\n      <td>Counter({'railway_rail': 14, 'building_industr...</td>\n    </tr>\n    <tr>\n      <th>311574</th>\n      <td>260950</td>\n      <td>Yekaterinburg</td>\n      <td>POLYGON ((60.61475238325298 56.9400826374019, ...</td>\n      <td>Counter({'highway_trunk': 4, 'highway_trunk_li...</td>\n    </tr>\n    <tr>\n      <th>281750</th>\n      <td>230236</td>\n      <td>Yekaterinburg</td>\n      <td>POLYGON ((60.92030337876403 56.81051617973647,...</td>\n      <td>Counter({'natural_wood': 2, 'highway_track': 1})</td>\n    </tr>\n    <tr>\n      <th>6807</th>\n      <td>28494</td>\n      <td>Saint-Petersburg</td>\n      <td>POLYGON ((30.3614427028565 59.95344935126755, ...</td>\n      <td>Counter({'waterway_river': 2, 'water_river': 1...</td>\n    </tr>\n    <tr>\n      <th>554717</th>\n      <td>561238</td>\n      <td>Уфа</td>\n      <td>POLYGON ((56.06703336868505 54.68377921292708,...</td>\n      <td>Counter({'natural_wood': 3})</td>\n    </tr>\n    <tr>\n      <th>511763</th>\n      <td>536364</td>\n      <td>Ростов-на-Дону</td>\n      <td>POLYGON ((39.74174181139296 47.33229872480777,...</td>\n      <td>Counter({'highway_path': 4, 'natural_wood': 1})</td>\n    </tr>\n  </tbody>\n</table>\n</div>"
     },
     "execution_count": 16,
     "metadata": {},
     "output_type": "execute_result"
    }
   ],
   "source": [
    "# для демонстрации (\n",
    "demo = pd.read_csv('/Users/ivanesipov/Desktop/Учеба/Курсовая_3/Coursework_3/data/processed/Final_hexes_dict_counter.csv')\n",
    "demo.rename(columns = {'0': 'hexagon_id'}, inplace = True)\n",
    "demo.drop('Unnamed: 0', axis = 1, inplace = True)\n",
    "demo.sample(n=10)"
   ],
   "metadata": {
    "collapsed": false,
    "pycharm": {
     "name": "#%%\n"
    }
   }
  }
 ],
 "metadata": {
  "kernelspec": {
   "display_name": "Python 3",
   "language": "python",
   "name": "python3"
  },
  "language_info": {
   "codemirror_mode": {
    "name": "ipython",
    "version": 2
   },
   "file_extension": ".py",
   "mimetype": "text/x-python",
   "name": "python",
   "nbconvert_exporter": "python",
   "pygments_lexer": "ipython2",
   "version": "2.7.6"
  }
 },
 "nbformat": 4,
 "nbformat_minor": 0
}